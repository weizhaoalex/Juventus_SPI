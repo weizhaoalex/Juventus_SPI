{
 "cells": [
  {
   "cell_type": "code",
   "execution_count": 1,
   "metadata": {},
   "outputs": [],
   "source": [
    "import numpy as np\n",
    "import pandas as pd\n",
    "from matplotlib import pyplot as plt\n",
    "import seaborn as sns\n",
    "from sklearn import preprocessing"
   ]
  },
  {
   "cell_type": "code",
   "execution_count": 2,
   "metadata": {},
   "outputs": [],
   "source": [
    "df = pd.read_csv(\"C:\\\\Users\\\\Wei Zhao\\\\Documents\\\\Python\\\\soccer-spi\\\\spi_matches.csv\") "
   ]
  },
  {
   "cell_type": "markdown",
   "metadata": {},
   "source": [
    "Take a quick view of the data."
   ]
  },
  {
   "cell_type": "code",
   "execution_count": 3,
   "metadata": {},
   "outputs": [
    {
     "data": {
      "text/html": [
       "<div>\n",
       "<style scoped>\n",
       "    .dataframe tbody tr th:only-of-type {\n",
       "        vertical-align: middle;\n",
       "    }\n",
       "\n",
       "    .dataframe tbody tr th {\n",
       "        vertical-align: top;\n",
       "    }\n",
       "\n",
       "    .dataframe thead th {\n",
       "        text-align: right;\n",
       "    }\n",
       "</style>\n",
       "<table border=\"1\" class=\"dataframe\">\n",
       "  <thead>\n",
       "    <tr style=\"text-align: right;\">\n",
       "      <th></th>\n",
       "      <th>date</th>\n",
       "      <th>league_id</th>\n",
       "      <th>league</th>\n",
       "      <th>team1</th>\n",
       "      <th>team2</th>\n",
       "      <th>spi1</th>\n",
       "      <th>spi2</th>\n",
       "      <th>prob1</th>\n",
       "      <th>prob2</th>\n",
       "      <th>probtie</th>\n",
       "      <th>...</th>\n",
       "      <th>importance1</th>\n",
       "      <th>importance2</th>\n",
       "      <th>score1</th>\n",
       "      <th>score2</th>\n",
       "      <th>xg1</th>\n",
       "      <th>xg2</th>\n",
       "      <th>nsxg1</th>\n",
       "      <th>nsxg2</th>\n",
       "      <th>adj_score1</th>\n",
       "      <th>adj_score2</th>\n",
       "    </tr>\n",
       "  </thead>\n",
       "  <tbody>\n",
       "    <tr>\n",
       "      <th>0</th>\n",
       "      <td>2016-08-12</td>\n",
       "      <td>1843</td>\n",
       "      <td>French Ligue 1</td>\n",
       "      <td>Bastia</td>\n",
       "      <td>Paris Saint-Germain</td>\n",
       "      <td>51.16</td>\n",
       "      <td>85.68</td>\n",
       "      <td>0.0463</td>\n",
       "      <td>0.8380</td>\n",
       "      <td>0.1157</td>\n",
       "      <td>...</td>\n",
       "      <td>32.4</td>\n",
       "      <td>67.7</td>\n",
       "      <td>0.0</td>\n",
       "      <td>1.0</td>\n",
       "      <td>0.97</td>\n",
       "      <td>0.63</td>\n",
       "      <td>0.43</td>\n",
       "      <td>0.45</td>\n",
       "      <td>0.00</td>\n",
       "      <td>1.05</td>\n",
       "    </tr>\n",
       "    <tr>\n",
       "      <th>1</th>\n",
       "      <td>2016-08-12</td>\n",
       "      <td>1843</td>\n",
       "      <td>French Ligue 1</td>\n",
       "      <td>AS Monaco</td>\n",
       "      <td>Guingamp</td>\n",
       "      <td>68.85</td>\n",
       "      <td>56.48</td>\n",
       "      <td>0.5714</td>\n",
       "      <td>0.1669</td>\n",
       "      <td>0.2617</td>\n",
       "      <td>...</td>\n",
       "      <td>53.7</td>\n",
       "      <td>22.9</td>\n",
       "      <td>2.0</td>\n",
       "      <td>2.0</td>\n",
       "      <td>2.45</td>\n",
       "      <td>0.77</td>\n",
       "      <td>1.75</td>\n",
       "      <td>0.42</td>\n",
       "      <td>2.10</td>\n",
       "      <td>2.10</td>\n",
       "    </tr>\n",
       "    <tr>\n",
       "      <th>2</th>\n",
       "      <td>2016-08-13</td>\n",
       "      <td>2411</td>\n",
       "      <td>Barclays Premier League</td>\n",
       "      <td>Hull City</td>\n",
       "      <td>Leicester City</td>\n",
       "      <td>53.57</td>\n",
       "      <td>66.81</td>\n",
       "      <td>0.3459</td>\n",
       "      <td>0.3621</td>\n",
       "      <td>0.2921</td>\n",
       "      <td>...</td>\n",
       "      <td>38.1</td>\n",
       "      <td>22.2</td>\n",
       "      <td>2.0</td>\n",
       "      <td>1.0</td>\n",
       "      <td>0.85</td>\n",
       "      <td>2.77</td>\n",
       "      <td>0.17</td>\n",
       "      <td>1.25</td>\n",
       "      <td>2.10</td>\n",
       "      <td>1.05</td>\n",
       "    </tr>\n",
       "    <tr>\n",
       "      <th>3</th>\n",
       "      <td>2016-08-13</td>\n",
       "      <td>2411</td>\n",
       "      <td>Barclays Premier League</td>\n",
       "      <td>Crystal Palace</td>\n",
       "      <td>West Bromwich Albion</td>\n",
       "      <td>55.19</td>\n",
       "      <td>58.66</td>\n",
       "      <td>0.4214</td>\n",
       "      <td>0.2939</td>\n",
       "      <td>0.2847</td>\n",
       "      <td>...</td>\n",
       "      <td>43.6</td>\n",
       "      <td>34.6</td>\n",
       "      <td>0.0</td>\n",
       "      <td>1.0</td>\n",
       "      <td>1.11</td>\n",
       "      <td>0.68</td>\n",
       "      <td>0.84</td>\n",
       "      <td>1.60</td>\n",
       "      <td>0.00</td>\n",
       "      <td>1.05</td>\n",
       "    </tr>\n",
       "    <tr>\n",
       "      <th>4</th>\n",
       "      <td>2016-08-13</td>\n",
       "      <td>2411</td>\n",
       "      <td>Barclays Premier League</td>\n",
       "      <td>Everton</td>\n",
       "      <td>Tottenham Hotspur</td>\n",
       "      <td>68.02</td>\n",
       "      <td>73.25</td>\n",
       "      <td>0.3910</td>\n",
       "      <td>0.3401</td>\n",
       "      <td>0.2689</td>\n",
       "      <td>...</td>\n",
       "      <td>31.9</td>\n",
       "      <td>48.0</td>\n",
       "      <td>1.0</td>\n",
       "      <td>1.0</td>\n",
       "      <td>0.73</td>\n",
       "      <td>1.11</td>\n",
       "      <td>0.88</td>\n",
       "      <td>1.81</td>\n",
       "      <td>1.05</td>\n",
       "      <td>1.05</td>\n",
       "    </tr>\n",
       "  </tbody>\n",
       "</table>\n",
       "<p>5 rows × 22 columns</p>\n",
       "</div>"
      ],
      "text/plain": [
       "         date  league_id                   league           team1  \\\n",
       "0  2016-08-12       1843           French Ligue 1          Bastia   \n",
       "1  2016-08-12       1843           French Ligue 1       AS Monaco   \n",
       "2  2016-08-13       2411  Barclays Premier League       Hull City   \n",
       "3  2016-08-13       2411  Barclays Premier League  Crystal Palace   \n",
       "4  2016-08-13       2411  Barclays Premier League         Everton   \n",
       "\n",
       "                  team2   spi1   spi2   prob1   prob2  probtie  ...  \\\n",
       "0   Paris Saint-Germain  51.16  85.68  0.0463  0.8380   0.1157  ...   \n",
       "1              Guingamp  68.85  56.48  0.5714  0.1669   0.2617  ...   \n",
       "2        Leicester City  53.57  66.81  0.3459  0.3621   0.2921  ...   \n",
       "3  West Bromwich Albion  55.19  58.66  0.4214  0.2939   0.2847  ...   \n",
       "4     Tottenham Hotspur  68.02  73.25  0.3910  0.3401   0.2689  ...   \n",
       "\n",
       "   importance1  importance2  score1  score2   xg1   xg2  nsxg1  nsxg2  \\\n",
       "0         32.4         67.7     0.0     1.0  0.97  0.63   0.43   0.45   \n",
       "1         53.7         22.9     2.0     2.0  2.45  0.77   1.75   0.42   \n",
       "2         38.1         22.2     2.0     1.0  0.85  2.77   0.17   1.25   \n",
       "3         43.6         34.6     0.0     1.0  1.11  0.68   0.84   1.60   \n",
       "4         31.9         48.0     1.0     1.0  0.73  1.11   0.88   1.81   \n",
       "\n",
       "   adj_score1  adj_score2  \n",
       "0        0.00        1.05  \n",
       "1        2.10        2.10  \n",
       "2        2.10        1.05  \n",
       "3        0.00        1.05  \n",
       "4        1.05        1.05  \n",
       "\n",
       "[5 rows x 22 columns]"
      ]
     },
     "execution_count": 3,
     "metadata": {},
     "output_type": "execute_result"
    }
   ],
   "source": [
    "df.head()"
   ]
  },
  {
   "cell_type": "code",
   "execution_count": 4,
   "metadata": {},
   "outputs": [
    {
     "data": {
      "text/plain": [
       "(32274, 22)"
      ]
     },
     "execution_count": 4,
     "metadata": {},
     "output_type": "execute_result"
    }
   ],
   "source": [
    "df.shape"
   ]
  },
  {
   "cell_type": "markdown",
   "metadata": {},
   "source": [
    "Filter for Juventus."
   ]
  },
  {
   "cell_type": "code",
   "execution_count": 5,
   "metadata": {},
   "outputs": [],
   "source": [
    "J_df = df[df['team1']=='Juventus']"
   ]
  },
  {
   "cell_type": "code",
   "execution_count": 6,
   "metadata": {},
   "outputs": [
    {
     "data": {
      "text/plain": [
       "(96, 22)"
      ]
     },
     "execution_count": 6,
     "metadata": {},
     "output_type": "execute_result"
    }
   ],
   "source": [
    "J_df.shape"
   ]
  },
  {
   "cell_type": "code",
   "execution_count": 7,
   "metadata": {},
   "outputs": [
    {
     "data": {
      "text/html": [
       "<div>\n",
       "<style scoped>\n",
       "    .dataframe tbody tr th:only-of-type {\n",
       "        vertical-align: middle;\n",
       "    }\n",
       "\n",
       "    .dataframe tbody tr th {\n",
       "        vertical-align: top;\n",
       "    }\n",
       "\n",
       "    .dataframe thead th {\n",
       "        text-align: right;\n",
       "    }\n",
       "</style>\n",
       "<table border=\"1\" class=\"dataframe\">\n",
       "  <thead>\n",
       "    <tr style=\"text-align: right;\">\n",
       "      <th></th>\n",
       "      <th>date</th>\n",
       "      <th>league_id</th>\n",
       "      <th>league</th>\n",
       "      <th>team1</th>\n",
       "      <th>team2</th>\n",
       "      <th>spi1</th>\n",
       "      <th>spi2</th>\n",
       "      <th>prob1</th>\n",
       "      <th>prob2</th>\n",
       "      <th>probtie</th>\n",
       "      <th>...</th>\n",
       "      <th>importance1</th>\n",
       "      <th>importance2</th>\n",
       "      <th>score1</th>\n",
       "      <th>score2</th>\n",
       "      <th>xg1</th>\n",
       "      <th>xg2</th>\n",
       "      <th>nsxg1</th>\n",
       "      <th>nsxg2</th>\n",
       "      <th>adj_score1</th>\n",
       "      <th>adj_score2</th>\n",
       "    </tr>\n",
       "  </thead>\n",
       "  <tbody>\n",
       "    <tr>\n",
       "      <th>40</th>\n",
       "      <td>2016-08-20</td>\n",
       "      <td>1854</td>\n",
       "      <td>Italy Serie A</td>\n",
       "      <td>Juventus</td>\n",
       "      <td>Fiorentina</td>\n",
       "      <td>82.79</td>\n",
       "      <td>69.19</td>\n",
       "      <td>0.6808</td>\n",
       "      <td>0.1010</td>\n",
       "      <td>0.2182</td>\n",
       "      <td>...</td>\n",
       "      <td>79.1</td>\n",
       "      <td>60.5</td>\n",
       "      <td>2.0</td>\n",
       "      <td>1.0</td>\n",
       "      <td>1.53</td>\n",
       "      <td>0.23</td>\n",
       "      <td>1.81</td>\n",
       "      <td>0.69</td>\n",
       "      <td>2.10</td>\n",
       "      <td>1.05</td>\n",
       "    </tr>\n",
       "    <tr>\n",
       "      <th>127</th>\n",
       "      <td>2016-09-10</td>\n",
       "      <td>1854</td>\n",
       "      <td>Italy Serie A</td>\n",
       "      <td>Juventus</td>\n",
       "      <td>Sassuolo</td>\n",
       "      <td>83.18</td>\n",
       "      <td>59.69</td>\n",
       "      <td>0.7988</td>\n",
       "      <td>0.0400</td>\n",
       "      <td>0.1612</td>\n",
       "      <td>...</td>\n",
       "      <td>98.5</td>\n",
       "      <td>29.2</td>\n",
       "      <td>3.0</td>\n",
       "      <td>1.0</td>\n",
       "      <td>3.34</td>\n",
       "      <td>0.78</td>\n",
       "      <td>2.54</td>\n",
       "      <td>0.74</td>\n",
       "      <td>3.15</td>\n",
       "      <td>1.05</td>\n",
       "    </tr>\n",
       "    <tr>\n",
       "      <th>170</th>\n",
       "      <td>2016-09-14</td>\n",
       "      <td>1818</td>\n",
       "      <td>UEFA Champions League</td>\n",
       "      <td>Juventus</td>\n",
       "      <td>Sevilla FC</td>\n",
       "      <td>83.47</td>\n",
       "      <td>78.92</td>\n",
       "      <td>0.6447</td>\n",
       "      <td>0.1335</td>\n",
       "      <td>0.2217</td>\n",
       "      <td>...</td>\n",
       "      <td>NaN</td>\n",
       "      <td>NaN</td>\n",
       "      <td>0.0</td>\n",
       "      <td>0.0</td>\n",
       "      <td>1.40</td>\n",
       "      <td>0.07</td>\n",
       "      <td>2.11</td>\n",
       "      <td>0.25</td>\n",
       "      <td>0.00</td>\n",
       "      <td>0.00</td>\n",
       "    </tr>\n",
       "    <tr>\n",
       "      <th>250</th>\n",
       "      <td>2016-09-21</td>\n",
       "      <td>1854</td>\n",
       "      <td>Italy Serie A</td>\n",
       "      <td>Juventus</td>\n",
       "      <td>Cagliari</td>\n",
       "      <td>82.43</td>\n",
       "      <td>58.24</td>\n",
       "      <td>0.8095</td>\n",
       "      <td>0.0391</td>\n",
       "      <td>0.1514</td>\n",
       "      <td>...</td>\n",
       "      <td>NaN</td>\n",
       "      <td>NaN</td>\n",
       "      <td>4.0</td>\n",
       "      <td>0.0</td>\n",
       "      <td>3.32</td>\n",
       "      <td>0.11</td>\n",
       "      <td>1.90</td>\n",
       "      <td>0.30</td>\n",
       "      <td>3.86</td>\n",
       "      <td>0.00</td>\n",
       "    </tr>\n",
       "    <tr>\n",
       "      <th>403</th>\n",
       "      <td>2016-10-15</td>\n",
       "      <td>1854</td>\n",
       "      <td>Italy Serie A</td>\n",
       "      <td>Juventus</td>\n",
       "      <td>Udinese</td>\n",
       "      <td>86.66</td>\n",
       "      <td>51.86</td>\n",
       "      <td>0.8759</td>\n",
       "      <td>0.0220</td>\n",
       "      <td>0.1021</td>\n",
       "      <td>...</td>\n",
       "      <td>81.6</td>\n",
       "      <td>33.2</td>\n",
       "      <td>2.0</td>\n",
       "      <td>1.0</td>\n",
       "      <td>2.52</td>\n",
       "      <td>0.29</td>\n",
       "      <td>1.33</td>\n",
       "      <td>0.58</td>\n",
       "      <td>2.10</td>\n",
       "      <td>1.05</td>\n",
       "    </tr>\n",
       "  </tbody>\n",
       "</table>\n",
       "<p>5 rows × 22 columns</p>\n",
       "</div>"
      ],
      "text/plain": [
       "           date  league_id                 league     team1       team2  \\\n",
       "40   2016-08-20       1854          Italy Serie A  Juventus  Fiorentina   \n",
       "127  2016-09-10       1854          Italy Serie A  Juventus    Sassuolo   \n",
       "170  2016-09-14       1818  UEFA Champions League  Juventus  Sevilla FC   \n",
       "250  2016-09-21       1854          Italy Serie A  Juventus    Cagliari   \n",
       "403  2016-10-15       1854          Italy Serie A  Juventus     Udinese   \n",
       "\n",
       "      spi1   spi2   prob1   prob2  probtie  ...  importance1  importance2  \\\n",
       "40   82.79  69.19  0.6808  0.1010   0.2182  ...         79.1         60.5   \n",
       "127  83.18  59.69  0.7988  0.0400   0.1612  ...         98.5         29.2   \n",
       "170  83.47  78.92  0.6447  0.1335   0.2217  ...          NaN          NaN   \n",
       "250  82.43  58.24  0.8095  0.0391   0.1514  ...          NaN          NaN   \n",
       "403  86.66  51.86  0.8759  0.0220   0.1021  ...         81.6         33.2   \n",
       "\n",
       "     score1  score2   xg1   xg2  nsxg1  nsxg2  adj_score1  adj_score2  \n",
       "40      2.0     1.0  1.53  0.23   1.81   0.69        2.10        1.05  \n",
       "127     3.0     1.0  3.34  0.78   2.54   0.74        3.15        1.05  \n",
       "170     0.0     0.0  1.40  0.07   2.11   0.25        0.00        0.00  \n",
       "250     4.0     0.0  3.32  0.11   1.90   0.30        3.86        0.00  \n",
       "403     2.0     1.0  2.52  0.29   1.33   0.58        2.10        1.05  \n",
       "\n",
       "[5 rows x 22 columns]"
      ]
     },
     "execution_count": 7,
     "metadata": {},
     "output_type": "execute_result"
    }
   ],
   "source": [
    "J_df.head()"
   ]
  },
  {
   "cell_type": "markdown",
   "metadata": {},
   "source": [
    "Filter for the fields that I'm interested in."
   ]
  },
  {
   "cell_type": "code",
   "execution_count": 8,
   "metadata": {},
   "outputs": [
    {
     "data": {
      "text/plain": [
       "(96, 8)"
      ]
     },
     "execution_count": 8,
     "metadata": {},
     "output_type": "execute_result"
    }
   ],
   "source": [
    "df1 = J_df[['date','league','team1','team2','spi1','spi2','score1','score2']]\n",
    "df1.shape"
   ]
  },
  {
   "cell_type": "markdown",
   "metadata": {},
   "source": [
    "Check last few rows of the data, it shows some missing values. It's the games in the future so there's no score yet. Those data points need to be removed."
   ]
  },
  {
   "cell_type": "code",
   "execution_count": 9,
   "metadata": {},
   "outputs": [
    {
     "data": {
      "text/html": [
       "<div>\n",
       "<style scoped>\n",
       "    .dataframe tbody tr th:only-of-type {\n",
       "        vertical-align: middle;\n",
       "    }\n",
       "\n",
       "    .dataframe tbody tr th {\n",
       "        vertical-align: top;\n",
       "    }\n",
       "\n",
       "    .dataframe thead th {\n",
       "        text-align: right;\n",
       "    }\n",
       "</style>\n",
       "<table border=\"1\" class=\"dataframe\">\n",
       "  <thead>\n",
       "    <tr style=\"text-align: right;\">\n",
       "      <th></th>\n",
       "      <th>date</th>\n",
       "      <th>league</th>\n",
       "      <th>team1</th>\n",
       "      <th>team2</th>\n",
       "      <th>spi1</th>\n",
       "      <th>spi2</th>\n",
       "      <th>score1</th>\n",
       "      <th>score2</th>\n",
       "    </tr>\n",
       "  </thead>\n",
       "  <tbody>\n",
       "    <tr>\n",
       "      <th>31129</th>\n",
       "      <td>2020-04-05</td>\n",
       "      <td>Italy Serie A</td>\n",
       "      <td>Juventus</td>\n",
       "      <td>Torino</td>\n",
       "      <td>87.05</td>\n",
       "      <td>61.08</td>\n",
       "      <td>NaN</td>\n",
       "      <td>NaN</td>\n",
       "    </tr>\n",
       "    <tr>\n",
       "      <th>31505</th>\n",
       "      <td>2020-04-19</td>\n",
       "      <td>Italy Serie A</td>\n",
       "      <td>Juventus</td>\n",
       "      <td>Atalanta</td>\n",
       "      <td>87.05</td>\n",
       "      <td>73.73</td>\n",
       "      <td>NaN</td>\n",
       "      <td>NaN</td>\n",
       "    </tr>\n",
       "    <tr>\n",
       "      <th>31736</th>\n",
       "      <td>2020-04-26</td>\n",
       "      <td>Italy Serie A</td>\n",
       "      <td>Juventus</td>\n",
       "      <td>Lazio</td>\n",
       "      <td>87.05</td>\n",
       "      <td>71.72</td>\n",
       "      <td>NaN</td>\n",
       "      <td>NaN</td>\n",
       "    </tr>\n",
       "    <tr>\n",
       "      <th>32030</th>\n",
       "      <td>2020-05-10</td>\n",
       "      <td>Italy Serie A</td>\n",
       "      <td>Juventus</td>\n",
       "      <td>Sampdoria</td>\n",
       "      <td>87.05</td>\n",
       "      <td>59.76</td>\n",
       "      <td>NaN</td>\n",
       "      <td>NaN</td>\n",
       "    </tr>\n",
       "    <tr>\n",
       "      <th>32248</th>\n",
       "      <td>2020-05-24</td>\n",
       "      <td>Italy Serie A</td>\n",
       "      <td>Juventus</td>\n",
       "      <td>AS Roma</td>\n",
       "      <td>87.05</td>\n",
       "      <td>72.76</td>\n",
       "      <td>NaN</td>\n",
       "      <td>NaN</td>\n",
       "    </tr>\n",
       "  </tbody>\n",
       "</table>\n",
       "</div>"
      ],
      "text/plain": [
       "             date         league     team1      team2   spi1   spi2  score1  \\\n",
       "31129  2020-04-05  Italy Serie A  Juventus     Torino  87.05  61.08     NaN   \n",
       "31505  2020-04-19  Italy Serie A  Juventus   Atalanta  87.05  73.73     NaN   \n",
       "31736  2020-04-26  Italy Serie A  Juventus      Lazio  87.05  71.72     NaN   \n",
       "32030  2020-05-10  Italy Serie A  Juventus  Sampdoria  87.05  59.76     NaN   \n",
       "32248  2020-05-24  Italy Serie A  Juventus    AS Roma  87.05  72.76     NaN   \n",
       "\n",
       "       score2  \n",
       "31129     NaN  \n",
       "31505     NaN  \n",
       "31736     NaN  \n",
       "32030     NaN  \n",
       "32248     NaN  "
      ]
     },
     "execution_count": 9,
     "metadata": {},
     "output_type": "execute_result"
    }
   ],
   "source": [
    "df1.tail()"
   ]
  },
  {
   "cell_type": "code",
   "execution_count": 10,
   "metadata": {},
   "outputs": [
    {
     "data": {
      "text/plain": [
       "(80, 8)"
      ]
     },
     "execution_count": 10,
     "metadata": {},
     "output_type": "execute_result"
    }
   ],
   "source": [
    "df1 = df1.dropna()\n",
    "df1.shape"
   ]
  },
  {
   "cell_type": "markdown",
   "metadata": {},
   "source": [
    "Check the format of data, sometimes the date is not in the format we want. It needs to be transformed."
   ]
  },
  {
   "cell_type": "code",
   "execution_count": 11,
   "metadata": {
    "scrolled": true
   },
   "outputs": [
    {
     "data": {
      "text/plain": [
       "date       object\n",
       "league     object\n",
       "team1      object\n",
       "team2      object\n",
       "spi1      float64\n",
       "spi2      float64\n",
       "score1    float64\n",
       "score2    float64\n",
       "dtype: object"
      ]
     },
     "execution_count": 11,
     "metadata": {},
     "output_type": "execute_result"
    }
   ],
   "source": [
    "df1.dtypes"
   ]
  },
  {
   "cell_type": "code",
   "execution_count": 12,
   "metadata": {},
   "outputs": [],
   "source": [
    "df1['date'] = pd.to_datetime(df1['date'])"
   ]
  },
  {
   "cell_type": "markdown",
   "metadata": {},
   "source": [
    "Plot the Juventus Soccor Power Index over time. The drop on May 2019 is becasue Juve lose the game with Ajax in UEFA Champion League (which is quite important), and another two draws with Torino and Atlanta."
   ]
  },
  {
   "cell_type": "code",
   "execution_count": 13,
   "metadata": {},
   "outputs": [
    {
     "name": "stderr",
     "output_type": "stream",
     "text": [
      "C:\\Anaconda\\lib\\site-packages\\pandas\\plotting\\_converter.py:129: FutureWarning: Using an implicitly registered datetime converter for a matplotlib plotting method. The converter was registered by pandas on import. Future versions of pandas will require you to explicitly register matplotlib converters.\n",
      "\n",
      "To register the converters:\n",
      "\t>>> from pandas.plotting import register_matplotlib_converters\n",
      "\t>>> register_matplotlib_converters()\n",
      "  warnings.warn(msg, FutureWarning)\n"
     ]
    },
    {
     "data": {
      "image/png": "[encoded data removed]",
      "text/plain": [
       "<Figure size 720x360 with 1 Axes>"
      ]
     },
     "metadata": {
      "needs_background": "light"
     },
     "output_type": "display_data"
    }
   ],
   "source": [
    "plt.figure(figsize=(10,5))\n",
    "sns.lineplot(data=df1, x=\"date\", y=\"spi1\")\n",
    "plt.show()"
   ]
  },
  {
   "cell_type": "markdown",
   "metadata": {},
   "source": [
    "Plot the spi score of couple top teams."
   ]
  },
  {
   "cell_type": "code",
   "execution_count": 14,
   "metadata": {},
   "outputs": [],
   "source": [
    "df2 = df[df['team1'].isin(['Juventus','Liverpool','Barcelona','Bayern Munich'])]"
   ]
  },
  {
   "cell_type": "code",
   "execution_count": 15,
   "metadata": {},
   "outputs": [
    {
     "data": {
      "text/plain": [
       "(303, 8)"
      ]
     },
     "execution_count": 15,
     "metadata": {},
     "output_type": "execute_result"
    }
   ],
   "source": [
    "df2 = df2[['date','league','team1','team2','spi1','spi2','score1','score2']]\n",
    "df2 = df2.dropna()\n",
    "df2['date'] = pd.to_datetime(df2['date'])\n",
    "df2 = df2[df2['date']>'2016-09-01']\n",
    "df2.shape"
   ]
  },
  {
   "cell_type": "code",
   "execution_count": 16,
   "metadata": {},
   "outputs": [
    {
     "data": {
      "image/png": "[encoded data removed]",
      "text/plain": [
       "<Figure size 720x360 with 1 Axes>"
      ]
     },
     "metadata": {
      "needs_background": "light"
     },
     "output_type": "display_data"
    }
   ],
   "source": [
    "plt.figure(figsize=(10,5))\n",
    "sns.lineplot(data=df2, x=\"date\", y=\"spi1\", hue='team1')\n",
    "plt.show()"
   ]
  },
  {
   "cell_type": "code",
   "execution_count": 17,
   "metadata": {},
   "outputs": [],
   "source": [
    "df_I = df[df['league']=='Italy Serie A']\n",
    "df_I = df_I[df_I['date']>'2017-07-01']\n",
    "df_I = df_I[['date','team1','team2','spi1','spi2','score1','score2']]"
   ]
  },
  {
   "cell_type": "code",
   "execution_count": 18,
   "metadata": {},
   "outputs": [
    {
     "data": {
      "text/html": [
       "<div>\n",
       "<style scoped>\n",
       "    .dataframe tbody tr th:only-of-type {\n",
       "        vertical-align: middle;\n",
       "    }\n",
       "\n",
       "    .dataframe tbody tr th {\n",
       "        vertical-align: top;\n",
       "    }\n",
       "\n",
       "    .dataframe thead th {\n",
       "        text-align: right;\n",
       "    }\n",
       "</style>\n",
       "<table border=\"1\" class=\"dataframe\">\n",
       "  <thead>\n",
       "    <tr style=\"text-align: right;\">\n",
       "      <th></th>\n",
       "      <th>date</th>\n",
       "      <th>team1</th>\n",
       "      <th>team2</th>\n",
       "      <th>spi1</th>\n",
       "      <th>spi2</th>\n",
       "      <th>score1</th>\n",
       "      <th>score2</th>\n",
       "    </tr>\n",
       "  </thead>\n",
       "  <tbody>\n",
       "    <tr>\n",
       "      <th>3316</th>\n",
       "      <td>2017-08-19</td>\n",
       "      <td>Juventus</td>\n",
       "      <td>Cagliari</td>\n",
       "      <td>87.05</td>\n",
       "      <td>57.81</td>\n",
       "      <td>3.0</td>\n",
       "      <td>0.0</td>\n",
       "    </tr>\n",
       "    <tr>\n",
       "      <th>3343</th>\n",
       "      <td>2017-08-19</td>\n",
       "      <td>Verona</td>\n",
       "      <td>Napoli</td>\n",
       "      <td>46.39</td>\n",
       "      <td>81.53</td>\n",
       "      <td>1.0</td>\n",
       "      <td>3.0</td>\n",
       "    </tr>\n",
       "    <tr>\n",
       "      <th>3392</th>\n",
       "      <td>2017-08-20</td>\n",
       "      <td>Atalanta</td>\n",
       "      <td>AS Roma</td>\n",
       "      <td>70.13</td>\n",
       "      <td>81.61</td>\n",
       "      <td>0.0</td>\n",
       "      <td>1.0</td>\n",
       "    </tr>\n",
       "    <tr>\n",
       "      <th>3409</th>\n",
       "      <td>2017-08-20</td>\n",
       "      <td>Crotone</td>\n",
       "      <td>AC Milan</td>\n",
       "      <td>53.26</td>\n",
       "      <td>73.53</td>\n",
       "      <td>0.0</td>\n",
       "      <td>3.0</td>\n",
       "    </tr>\n",
       "    <tr>\n",
       "      <th>3410</th>\n",
       "      <td>2017-08-20</td>\n",
       "      <td>Internazionale</td>\n",
       "      <td>Fiorentina</td>\n",
       "      <td>77.03</td>\n",
       "      <td>65.92</td>\n",
       "      <td>3.0</td>\n",
       "      <td>0.0</td>\n",
       "    </tr>\n",
       "  </tbody>\n",
       "</table>\n",
       "</div>"
      ],
      "text/plain": [
       "            date           team1       team2   spi1   spi2  score1  score2\n",
       "3316  2017-08-19        Juventus    Cagliari  87.05  57.81     3.0     0.0\n",
       "3343  2017-08-19          Verona      Napoli  46.39  81.53     1.0     3.0\n",
       "3392  2017-08-20        Atalanta     AS Roma  70.13  81.61     0.0     1.0\n",
       "3409  2017-08-20         Crotone    AC Milan  53.26  73.53     0.0     3.0\n",
       "3410  2017-08-20  Internazionale  Fiorentina  77.03  65.92     3.0     0.0"
      ]
     },
     "execution_count": 18,
     "metadata": {},
     "output_type": "execute_result"
    }
   ],
   "source": [
    "df_I.head()"
   ]
  },
  {
   "cell_type": "code",
   "execution_count": 19,
   "metadata": {},
   "outputs": [
    {
     "data": {
      "text/plain": [
       "(1140, 7)"
      ]
     },
     "execution_count": 19,
     "metadata": {},
     "output_type": "execute_result"
    }
   ],
   "source": [
    "df_I.shape"
   ]
  },
  {
   "cell_type": "code",
   "execution_count": 20,
   "metadata": {},
   "outputs": [],
   "source": [
    "df_I1 = df_I[['date','team1','score1','score2']]\n",
    "df_I2 = df_I[['date','team2','score2','score1']]\n",
    "df_I1.columns=['date','team','offense','defense']\n",
    "df_I2.columns=['date','team','offense','defense']"
   ]
  },
  {
   "cell_type": "code",
   "execution_count": 21,
   "metadata": {},
   "outputs": [
    {
     "data": {
      "text/plain": [
       "(2280, 4)"
      ]
     },
     "execution_count": 21,
     "metadata": {},
     "output_type": "execute_result"
    }
   ],
   "source": [
    "frames = [df_I1,df_I2]\n",
    "df_I3=pd.concat(frames)\n",
    "df_I3.shape"
   ]
  },
  {
   "cell_type": "code",
   "execution_count": 22,
   "metadata": {},
   "outputs": [],
   "source": [
    "df_score = df_I3.groupby(['team'],as_index=False).mean()"
   ]
  },
  {
   "cell_type": "code",
   "execution_count": 23,
   "metadata": {},
   "outputs": [
    {
     "data": {
      "text/html": [
       "<div>\n",
       "<style scoped>\n",
       "    .dataframe tbody tr th:only-of-type {\n",
       "        vertical-align: middle;\n",
       "    }\n",
       "\n",
       "    .dataframe tbody tr th {\n",
       "        vertical-align: top;\n",
       "    }\n",
       "\n",
       "    .dataframe thead th {\n",
       "        text-align: right;\n",
       "    }\n",
       "</style>\n",
       "<table border=\"1\" class=\"dataframe\">\n",
       "  <thead>\n",
       "    <tr style=\"text-align: right;\">\n",
       "      <th></th>\n",
       "      <th>team</th>\n",
       "      <th>offense</th>\n",
       "      <th>defense</th>\n",
       "    </tr>\n",
       "  </thead>\n",
       "  <tbody>\n",
       "    <tr>\n",
       "      <th>0</th>\n",
       "      <td>AC Milan</td>\n",
       "      <td>1.411765</td>\n",
       "      <td>1.070588</td>\n",
       "    </tr>\n",
       "    <tr>\n",
       "      <th>1</th>\n",
       "      <td>AS Roma</td>\n",
       "      <td>1.658824</td>\n",
       "      <td>1.023529</td>\n",
       "    </tr>\n",
       "    <tr>\n",
       "      <th>2</th>\n",
       "      <td>Atalanta</td>\n",
       "      <td>1.905882</td>\n",
       "      <td>1.164706</td>\n",
       "    </tr>\n",
       "    <tr>\n",
       "      <th>3</th>\n",
       "      <td>Benevento</td>\n",
       "      <td>0.868421</td>\n",
       "      <td>2.210526</td>\n",
       "    </tr>\n",
       "    <tr>\n",
       "      <th>4</th>\n",
       "      <td>Bologna</td>\n",
       "      <td>1.176471</td>\n",
       "      <td>1.411765</td>\n",
       "    </tr>\n",
       "    <tr>\n",
       "      <th>5</th>\n",
       "      <td>Brescia</td>\n",
       "      <td>1.000000</td>\n",
       "      <td>1.555556</td>\n",
       "    </tr>\n",
       "    <tr>\n",
       "      <th>6</th>\n",
       "      <td>Cagliari</td>\n",
       "      <td>0.964706</td>\n",
       "      <td>1.447059</td>\n",
       "    </tr>\n",
       "    <tr>\n",
       "      <th>7</th>\n",
       "      <td>Chievo Verona</td>\n",
       "      <td>0.802632</td>\n",
       "      <td>1.763158</td>\n",
       "    </tr>\n",
       "    <tr>\n",
       "      <th>8</th>\n",
       "      <td>Crotone</td>\n",
       "      <td>1.052632</td>\n",
       "      <td>1.736842</td>\n",
       "    </tr>\n",
       "    <tr>\n",
       "      <th>9</th>\n",
       "      <td>Empoli</td>\n",
       "      <td>1.342105</td>\n",
       "      <td>1.842105</td>\n",
       "    </tr>\n",
       "    <tr>\n",
       "      <th>10</th>\n",
       "      <td>Fiorentina</td>\n",
       "      <td>1.341176</td>\n",
       "      <td>1.211765</td>\n",
       "    </tr>\n",
       "    <tr>\n",
       "      <th>11</th>\n",
       "      <td>Frosinone</td>\n",
       "      <td>0.763158</td>\n",
       "      <td>1.815789</td>\n",
       "    </tr>\n",
       "    <tr>\n",
       "      <th>12</th>\n",
       "      <td>Genoa</td>\n",
       "      <td>0.988235</td>\n",
       "      <td>1.423529</td>\n",
       "    </tr>\n",
       "    <tr>\n",
       "      <th>13</th>\n",
       "      <td>Internazionale</td>\n",
       "      <td>1.686047</td>\n",
       "      <td>0.848837</td>\n",
       "    </tr>\n",
       "    <tr>\n",
       "      <th>14</th>\n",
       "      <td>Juventus</td>\n",
       "      <td>2.023529</td>\n",
       "      <td>0.729412</td>\n",
       "    </tr>\n",
       "    <tr>\n",
       "      <th>15</th>\n",
       "      <td>Lazio</td>\n",
       "      <td>1.917647</td>\n",
       "      <td>1.235294</td>\n",
       "    </tr>\n",
       "    <tr>\n",
       "      <th>16</th>\n",
       "      <td>Lecce</td>\n",
       "      <td>1.111111</td>\n",
       "      <td>2.000000</td>\n",
       "    </tr>\n",
       "    <tr>\n",
       "      <th>17</th>\n",
       "      <td>Napoli</td>\n",
       "      <td>1.988235</td>\n",
       "      <td>0.894118</td>\n",
       "    </tr>\n",
       "    <tr>\n",
       "      <th>18</th>\n",
       "      <td>Parma</td>\n",
       "      <td>1.166667</td>\n",
       "      <td>1.562500</td>\n",
       "    </tr>\n",
       "    <tr>\n",
       "      <th>19</th>\n",
       "      <td>Sampdoria</td>\n",
       "      <td>1.423529</td>\n",
       "      <td>1.517647</td>\n",
       "    </tr>\n",
       "    <tr>\n",
       "      <th>20</th>\n",
       "      <td>Sassuolo</td>\n",
       "      <td>1.154762</td>\n",
       "      <td>1.607143</td>\n",
       "    </tr>\n",
       "    <tr>\n",
       "      <th>21</th>\n",
       "      <td>Spal</td>\n",
       "      <td>1.058824</td>\n",
       "      <td>1.541176</td>\n",
       "    </tr>\n",
       "    <tr>\n",
       "      <th>22</th>\n",
       "      <td>Torino</td>\n",
       "      <td>1.376471</td>\n",
       "      <td>1.117647</td>\n",
       "    </tr>\n",
       "    <tr>\n",
       "      <th>23</th>\n",
       "      <td>Udinese</td>\n",
       "      <td>1.082353</td>\n",
       "      <td>1.517647</td>\n",
       "    </tr>\n",
       "    <tr>\n",
       "      <th>24</th>\n",
       "      <td>Verona</td>\n",
       "      <td>0.770833</td>\n",
       "      <td>1.791667</td>\n",
       "    </tr>\n",
       "  </tbody>\n",
       "</table>\n",
       "</div>"
      ],
      "text/plain": [
       "              team   offense   defense\n",
       "0         AC Milan  1.411765  1.070588\n",
       "1          AS Roma  1.658824  1.023529\n",
       "2         Atalanta  1.905882  1.164706\n",
       "3        Benevento  0.868421  2.210526\n",
       "4          Bologna  1.176471  1.411765\n",
       "5          Brescia  1.000000  1.555556\n",
       "6         Cagliari  0.964706  1.447059\n",
       "7    Chievo Verona  0.802632  1.763158\n",
       "8          Crotone  1.052632  1.736842\n",
       "9           Empoli  1.342105  1.842105\n",
       "10      Fiorentina  1.341176  1.211765\n",
       "11       Frosinone  0.763158  1.815789\n",
       "12           Genoa  0.988235  1.423529\n",
       "13  Internazionale  1.686047  0.848837\n",
       "14        Juventus  2.023529  0.729412\n",
       "15           Lazio  1.917647  1.235294\n",
       "16           Lecce  1.111111  2.000000\n",
       "17          Napoli  1.988235  0.894118\n",
       "18           Parma  1.166667  1.562500\n",
       "19       Sampdoria  1.423529  1.517647\n",
       "20        Sassuolo  1.154762  1.607143\n",
       "21            Spal  1.058824  1.541176\n",
       "22          Torino  1.376471  1.117647\n",
       "23         Udinese  1.082353  1.517647\n",
       "24          Verona  0.770833  1.791667"
      ]
     },
     "execution_count": 23,
     "metadata": {},
     "output_type": "execute_result"
    }
   ],
   "source": [
    "df_score"
   ]
  },
  {
   "cell_type": "code",
   "execution_count": 24,
   "metadata": {},
   "outputs": [],
   "source": [
    "df_score[['offense', 'defense']] = preprocessing.StandardScaler().fit_transform(df_score[['offense', 'defense']])\n",
    "df_score['defense'] = df_score['defense']*(-1)"
   ]
  },
  {
   "cell_type": "code",
   "execution_count": 25,
   "metadata": {},
   "outputs": [
    {
     "data": {
      "text/html": [
       "<div>\n",
       "<style scoped>\n",
       "    .dataframe tbody tr th:only-of-type {\n",
       "        vertical-align: middle;\n",
       "    }\n",
       "\n",
       "    .dataframe tbody tr th {\n",
       "        vertical-align: top;\n",
       "    }\n",
       "\n",
       "    .dataframe thead th {\n",
       "        text-align: right;\n",
       "    }\n",
       "</style>\n",
       "<table border=\"1\" class=\"dataframe\">\n",
       "  <thead>\n",
       "    <tr style=\"text-align: right;\">\n",
       "      <th></th>\n",
       "      <th>team</th>\n",
       "      <th>offense</th>\n",
       "      <th>defense</th>\n",
       "    </tr>\n",
       "  </thead>\n",
       "  <tbody>\n",
       "    <tr>\n",
       "      <th>0</th>\n",
       "      <td>AC Milan</td>\n",
       "      <td>0.342958</td>\n",
       "      <td>1.014727</td>\n",
       "    </tr>\n",
       "    <tr>\n",
       "      <th>1</th>\n",
       "      <td>AS Roma</td>\n",
       "      <td>0.993114</td>\n",
       "      <td>1.143435</td>\n",
       "    </tr>\n",
       "    <tr>\n",
       "      <th>2</th>\n",
       "      <td>Atalanta</td>\n",
       "      <td>1.643269</td>\n",
       "      <td>0.757313</td>\n",
       "    </tr>\n",
       "    <tr>\n",
       "      <th>3</th>\n",
       "      <td>Benevento</td>\n",
       "      <td>-1.086894</td>\n",
       "      <td>-2.103033</td>\n",
       "    </tr>\n",
       "    <tr>\n",
       "      <th>4</th>\n",
       "      <td>Bologna</td>\n",
       "      <td>-0.276237</td>\n",
       "      <td>0.081601</td>\n",
       "    </tr>\n",
       "    <tr>\n",
       "      <th>5</th>\n",
       "      <td>Brescia</td>\n",
       "      <td>-0.740633</td>\n",
       "      <td>-0.311671</td>\n",
       "    </tr>\n",
       "    <tr>\n",
       "      <th>6</th>\n",
       "      <td>Cagliari</td>\n",
       "      <td>-0.833513</td>\n",
       "      <td>-0.014929</td>\n",
       "    </tr>\n",
       "    <tr>\n",
       "      <th>7</th>\n",
       "      <td>Chievo Verona</td>\n",
       "      <td>-1.260024</td>\n",
       "      <td>-0.879469</td>\n",
       "    </tr>\n",
       "    <tr>\n",
       "      <th>8</th>\n",
       "      <td>Crotone</td>\n",
       "      <td>-0.602129</td>\n",
       "      <td>-0.807494</td>\n",
       "    </tr>\n",
       "    <tr>\n",
       "      <th>9</th>\n",
       "      <td>Empoli</td>\n",
       "      <td>0.159644</td>\n",
       "      <td>-1.095392</td>\n",
       "    </tr>\n",
       "    <tr>\n",
       "      <th>10</th>\n",
       "      <td>Fiorentina</td>\n",
       "      <td>0.157200</td>\n",
       "      <td>0.628606</td>\n",
       "    </tr>\n",
       "    <tr>\n",
       "      <th>11</th>\n",
       "      <td>Frosinone</td>\n",
       "      <td>-1.363903</td>\n",
       "      <td>-1.023417</td>\n",
       "    </tr>\n",
       "    <tr>\n",
       "      <th>12</th>\n",
       "      <td>Genoa</td>\n",
       "      <td>-0.771593</td>\n",
       "      <td>0.049424</td>\n",
       "    </tr>\n",
       "    <tr>\n",
       "      <th>13</th>\n",
       "      <td>Internazionale</td>\n",
       "      <td>1.064753</td>\n",
       "      <td>1.621222</td>\n",
       "    </tr>\n",
       "    <tr>\n",
       "      <th>14</th>\n",
       "      <td>Juventus</td>\n",
       "      <td>1.952867</td>\n",
       "      <td>1.947854</td>\n",
       "    </tr>\n",
       "    <tr>\n",
       "      <th>15</th>\n",
       "      <td>Lazio</td>\n",
       "      <td>1.674229</td>\n",
       "      <td>0.564253</td>\n",
       "    </tr>\n",
       "    <tr>\n",
       "      <th>16</th>\n",
       "      <td>Lecce</td>\n",
       "      <td>-0.448236</td>\n",
       "      <td>-1.527238</td>\n",
       "    </tr>\n",
       "    <tr>\n",
       "      <th>17</th>\n",
       "      <td>Napoli</td>\n",
       "      <td>1.859987</td>\n",
       "      <td>1.497379</td>\n",
       "    </tr>\n",
       "    <tr>\n",
       "      <th>18</th>\n",
       "      <td>Parma</td>\n",
       "      <td>-0.302037</td>\n",
       "      <td>-0.330664</td>\n",
       "    </tr>\n",
       "    <tr>\n",
       "      <th>19</th>\n",
       "      <td>Sampdoria</td>\n",
       "      <td>0.373918</td>\n",
       "      <td>-0.207990</td>\n",
       "    </tr>\n",
       "    <tr>\n",
       "      <th>20</th>\n",
       "      <td>Sassuolo</td>\n",
       "      <td>-0.333365</td>\n",
       "      <td>-0.452763</td>\n",
       "    </tr>\n",
       "    <tr>\n",
       "      <th>21</th>\n",
       "      <td>Spal</td>\n",
       "      <td>-0.585835</td>\n",
       "      <td>-0.272344</td>\n",
       "    </tr>\n",
       "    <tr>\n",
       "      <th>22</th>\n",
       "      <td>Torino</td>\n",
       "      <td>0.250079</td>\n",
       "      <td>0.886020</td>\n",
       "    </tr>\n",
       "    <tr>\n",
       "      <th>23</th>\n",
       "      <td>Udinese</td>\n",
       "      <td>-0.523915</td>\n",
       "      <td>-0.207990</td>\n",
       "    </tr>\n",
       "    <tr>\n",
       "      <th>24</th>\n",
       "      <td>Verona</td>\n",
       "      <td>-1.343704</td>\n",
       "      <td>-0.957441</td>\n",
       "    </tr>\n",
       "  </tbody>\n",
       "</table>\n",
       "</div>"
      ],
      "text/plain": [
       "              team   offense   defense\n",
       "0         AC Milan  0.342958  1.014727\n",
       "1          AS Roma  0.993114  1.143435\n",
       "2         Atalanta  1.643269  0.757313\n",
       "3        Benevento -1.086894 -2.103033\n",
       "4          Bologna -0.276237  0.081601\n",
       "5          Brescia -0.740633 -0.311671\n",
       "6         Cagliari -0.833513 -0.014929\n",
       "7    Chievo Verona -1.260024 -0.879469\n",
       "8          Crotone -0.602129 -0.807494\n",
       "9           Empoli  0.159644 -1.095392\n",
       "10      Fiorentina  0.157200  0.628606\n",
       "11       Frosinone -1.363903 -1.023417\n",
       "12           Genoa -0.771593  0.049424\n",
       "13  Internazionale  1.064753  1.621222\n",
       "14        Juventus  1.952867  1.947854\n",
       "15           Lazio  1.674229  0.564253\n",
       "16           Lecce -0.448236 -1.527238\n",
       "17          Napoli  1.859987  1.497379\n",
       "18           Parma -0.302037 -0.330664\n",
       "19       Sampdoria  0.373918 -0.207990\n",
       "20        Sassuolo -0.333365 -0.452763\n",
       "21            Spal -0.585835 -0.272344\n",
       "22          Torino  0.250079  0.886020\n",
       "23         Udinese -0.523915 -0.207990\n",
       "24          Verona -1.343704 -0.957441"
      ]
     },
     "execution_count": 25,
     "metadata": {},
     "output_type": "execute_result"
    }
   ],
   "source": [
    "df_score"
   ]
  },
  {
   "cell_type": "code",
   "execution_count": 26,
   "metadata": {},
   "outputs": [
    {
     "data": {
      "image/png": "[encoded data removed]",
      "text/plain": [
       "<Figure size 648x648 with 1 Axes>"
      ]
     },
     "metadata": {
      "needs_background": "light"
     },
     "output_type": "display_data"
    }
   ],
   "source": [
    "plt.figure(figsize=(9,9))\n",
    "sns.set()\n",
    "ax = sns.scatterplot(x=\"offense\", y=\"defense\", data=df_score)\n",
    "ax.axhline(y=0, color='grey', linewidth=1)\n",
    "ax.axvline(x=0, color='grey', linewidth=1)\n",
    "ax.set_xlim(-2,2.5)\n",
    "for line in range(0,df_score.shape[0]):\n",
    "     ax.text(df_score.offense[line]+0.05, df_score.defense[line], \n",
    "             df_score.team[line], horizontalalignment='left', size='small', color='black', weight='semibold')\n"
   ]
  },
  {
   "cell_type": "markdown",
   "metadata": {},
   "source": [
    "Code below is still in working process."
   ]
  },
  {
   "cell_type": "code",
   "execution_count": null,
   "metadata": {},
   "outputs": [],
   "source": [
    "df2 = df[df['date']>'2019-09-01']"
   ]
  },
  {
   "cell_type": "code",
   "execution_count": null,
   "metadata": {},
   "outputs": [],
   "source": [
    "df2.head()"
   ]
  },
  {
   "cell_type": "code",
   "execution_count": null,
   "metadata": {},
   "outputs": [],
   "source": [
    "df2.groupby(['team1'], sort=False)['spi1'].max()"
   ]
  }
 ],
 "metadata": {
  "kernelspec": {
   "display_name": "Python 3",
   "language": "python",
   "name": "python3"
  },
  "language_info": {
   "codemirror_mode": {
    "name": "ipython",
    "version": 3
   },
   "file_extension": ".py",
   "mimetype": "text/x-python",
   "name": "python",
   "nbconvert_exporter": "python",
   "pygments_lexer": "ipython3",
   "version": "3.7.3"
  }
 },
 "nbformat": 4,
 "nbformat_minor": 2
}
